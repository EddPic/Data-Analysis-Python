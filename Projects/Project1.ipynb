{
 "cells": [
  {
   "cell_type": "markdown",
   "id": "31e9af4b",
   "metadata": {
    "vscode": {
     "languageId": "plaintext"
    }
   },
   "source": [
    "# Exploring NYC Public School Test Result Scores"
   ]
  }
 ],
 "metadata": {
  "language_info": {
   "name": "python"
  }
 },
 "nbformat": 4,
 "nbformat_minor": 5
}
